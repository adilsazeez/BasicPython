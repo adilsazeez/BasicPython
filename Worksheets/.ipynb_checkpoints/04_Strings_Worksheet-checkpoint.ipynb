{
 "cells": [
  {
   "cell_type": "markdown",
   "metadata": {},
   "source": [
    "## Exercise 1\n",
    "\n",
    "### Write a function that takes two strings as parameters and returns true if string1 contains string2\n",
    "### Example - string1 = 'abcb abc efg', string2 = 'abc'. func_contains(string1,string2) should return True"
   ]
  },
  {
   "cell_type": "code",
   "execution_count": null,
   "metadata": {},
   "outputs": [],
   "source": [
    "## Excercise 1 - code cell\n",
    "\n",
    "def func_compare(s1, s2):\n",
    "    ## your code here\n",
    "    "
   ]
  },
  {
   "cell_type": "code",
   "execution_count": null,
   "metadata": {
    "editable": false
   },
   "outputs": [],
   "source": [
    "## Run this cell to validate your code.           ##\n",
    "## This is a test cell for the Excercise 4 Cell   ##\n",
    "## Please do not modify the contents of this cell ##\n",
    "## These are the test cases your code should pass ##\n",
    "\n",
    "assert func_compare('abcdef','cd') == True\n",
    "assert func_compare('abcdef','ce') == False\n",
    "assert func_compare('abcdef xyzhxp acdef','ce') == False\n",
    "assert func_compare('abcdef xyzhxp acdef','hxp ') == True\n",
    "\n",
    "print(\"All Passed!\")\n",
    "###################################################"
   ]
  },
  {
   "cell_type": "markdown",
   "metadata": {},
   "source": [
    "## Exercise 2\n",
    "\n",
    "### Write a function that takes a string as input and returns a sub-string that contains letters - from the 2nd letter from start to the 3rd letter from the end\n",
    "\n",
    "#### Hint: user string slicing"
   ]
  },
  {
   "cell_type": "code",
   "execution_count": null,
   "metadata": {},
   "outputs": [],
   "source": [
    "## Excercise 2 - code cell\n",
    "\n",
    "def func_substr(string):\n",
    "    ## your code here\n",
    "\n",
    "\n",
    "inp_string = input('Enter a string ')\n",
    "func_substr(inp_string)\n"
   ]
  },
  {
   "cell_type": "code",
   "execution_count": null,
   "metadata": {
    "editable": false
   },
   "outputs": [],
   "source": [
    "## Run this cell to validate your code.           ##\n",
    "## This is a test cell for the Excercise 2 Cell   ##\n",
    "## Please do not modify the contents of this cell ##\n",
    "## These are the test cases your code should pass ##\n",
    "\n",
    "assert func_substr('abcdefgh') == 'bcdef'\n",
    "assert func_substr('a clever fox jumped over a lazy dog') == ' clever fox jumped over a lazy d'\n",
    "\n",
    "print(\"All Passed!\")\n",
    "###################################################"
   ]
  },
  {
   "cell_type": "markdown",
   "metadata": {},
   "source": [
    "## Exercise 3\n",
    "\n",
    "### Write a function that takes a string as parameter and returns true if string is palindrome and false if not\n",
    "\n",
    "### Examples - dad is a palindrome, mom is a palindrome, abccba is a palindrome, abc is not a palindrome, elephant is not a palindrome\n",
    "\n",
    "#### Hint: user string slicing"
   ]
  },
  {
   "cell_type": "code",
   "execution_count": null,
   "metadata": {},
   "outputs": [],
   "source": [
    "## Excercise 3 - code cell\n",
    "\n",
    "def func_palindrome(string):\n",
    "    ## your code here\n",
    "\n",
    "\n",
    "inp_string = input('Enter a string ')\n",
    "func_palindrome(inp_string)\n",
    "\n"
   ]
  },
  {
   "cell_type": "code",
   "execution_count": null,
   "metadata": {
    "editable": false
   },
   "outputs": [],
   "source": [
    "## Run this cell to validate your code.           ##\n",
    "## This is a test cell for the Excercise 3 Cell   ##\n",
    "## Please do not modify the contents of this cell ##\n",
    "## These are the test cases your code should pass ##\n",
    "\n",
    "assert func_palindrome('abcdefgh') == False\n",
    "assert func_palindrome('mom') == True\n",
    "assert func_palindrome('mom mom') == True\n",
    "\n",
    "print(\"All Passed!\")\n",
    "###################################################"
   ]
  },
  {
   "cell_type": "markdown",
   "metadata": {},
   "source": [
    "## Exercise 4\n",
    "\n",
    "### Define a function that given a string of odd length greater 7, returns a string made of the middle three chars of the given String"
   ]
  },
  {
   "cell_type": "code",
   "execution_count": null,
   "metadata": {},
   "outputs": [],
   "source": [
    "## Excercise 4 - code cell\n",
    "\n",
    "def func_midStr(string):\n",
    "    ## your code here\n",
    "\n",
    "sampleStr = input('Enter a strng ')\n",
    "func_midStr(sampleStr)"
   ]
  },
  {
   "cell_type": "code",
   "execution_count": null,
   "metadata": {
    "editable": false
   },
   "outputs": [],
   "source": [
    "## Run this cell to validate your code.           ##\n",
    "## This is a test cell for the Excercise 4 Cell   ##\n",
    "## Please do not modify the contents of this cell ##\n",
    "## These are the test cases your code should pass ##\n",
    "\n",
    "assert func_midStr('abcdefgh') == 'def'\n",
    "assert func_midStr('my name is peter') == 'is'\n",
    "\n",
    "print(\"All Passed!\")\n",
    "###################################################"
   ]
  },
  {
   "cell_type": "markdown",
   "metadata": {},
   "source": [
    "## Exercise 5\n",
    "\n",
    "### Define a function that, given 2 strings, s1 and s2, creates a new string by appending s2 in the middle of s1"
   ]
  },
  {
   "cell_type": "code",
   "execution_count": null,
   "metadata": {},
   "outputs": [],
   "source": [
    "## Excercise 5 - code cell\n",
    "\n",
    "def func_addStr(s1,s2):\n",
    "    ## your code here\n",
    "\n",
    "s1 = input('Enter a strng ')\n",
    "s2 = input('Enter a strng ')\n",
    "\n",
    "func_addStr(s1,s2)"
   ]
  },
  {
   "cell_type": "code",
   "execution_count": null,
   "metadata": {
    "editable": false
   },
   "outputs": [],
   "source": [
    "## Run this cell to validate your code.           ##\n",
    "## This is a test cell for the Excercise 5 Cell   ##\n",
    "## Please do not modify the contents of this cell ##\n",
    "## These are the test cases your code should pass ##\n",
    "\n",
    "assert func_addStr('Mumbai is the same as Bombay','Maharashtra') == 'Mumbai is the Maharashtrasame as Bombay'\n",
    "assert func_addStr('abcdefgh','XYZ') == 'abcdXYZefgh'\n",
    "\n",
    "print(\"All Passed!\")\n",
    "###################################################"
   ]
  },
  {
   "cell_type": "markdown",
   "metadata": {},
   "source": [
    "## Exercise 6\n",
    "\n",
    "### Define a function that given 2 strings, s1, and s2 returns a new string made of the first, middle and last char of each input string\n",
    "\n",
    "### Example - s1 = \"America\", s2 = \"Japan\" then mixed_string = \"AJrpan\""
   ]
  },
  {
   "cell_type": "code",
   "execution_count": null,
   "metadata": {},
   "outputs": [],
   "source": [
    "## Excercise 6 - code cell\n",
    "\n",
    "def func_mixStr(s1,s2):\n",
    "    ## your code here\n",
    "    \n",
    "    \n",
    "s1 = input('Enter a strng ')\n",
    "s2 = input('Enter a strng ')\n",
    "\n",
    "func_mixStr(s1,s2)"
   ]
  },
  {
   "cell_type": "code",
   "execution_count": null,
   "metadata": {
    "editable": false
   },
   "outputs": [],
   "source": [
    "## Run this cell to validate your code.           ##\n",
    "## This is a test cell for the Excercise 6 Cell   ##\n",
    "## Please do not modify the contents of this cell ##\n",
    "## These are the test cases your code should pass ##\n",
    "\n",
    "assert func_mixStr('America','Japan') == 'AJrpan'\n",
    "assert func_mixStr('abcdefgh','XYZ') == 'aXeYhZ'\n",
    "\n",
    "print(\"All Passed!\")\n",
    "###################################################"
   ]
  },
  {
   "cell_type": "markdown",
   "metadata": {},
   "source": [
    "## Exercise 7 - Counting average length of words in a sentence\n",
    "\n",
    "#### Create a function average_length_of_words which takes a string as an argument and returns the average length of the words in the string. You can assume that there is a single space between each word and that the input does not have punctuation. The result should be rounded to one decimal place (hint: see round)."
   ]
  },
  {
   "cell_type": "code",
   "execution_count": null,
   "metadata": {},
   "outputs": [],
   "source": [
    "## Excercise 7 - code cell\n",
    "\n",
    "def average_length_of_words(string):\n",
    "    ## your code here\n",
    "    "
   ]
  },
  {
   "cell_type": "code",
   "execution_count": null,
   "metadata": {
    "editable": false
   },
   "outputs": [],
   "source": [
    "## Run this cell to validate your code.           ##\n",
    "## This is a test cell for the Excercise 7 Cell   ##\n",
    "## Please do not modify the contents of this cell ##\n",
    "## These are the test cases your code should pass ##\n",
    "\n",
    "assert average_length_of_words('only four lett erwo rdss') == 4\n",
    "assert average_length_of_words('one two three') == 3.7\n",
    "assert average_length_of_words('one two three four') == 3.8\n",
    "assert average_length_of_words('') == 0\n",
    "\n",
    "print(\"All Passed!\")\n",
    "###################################################"
   ]
  },
  {
   "cell_type": "markdown",
   "metadata": {},
   "source": [
    "## Exercise 8 - Fill missing pieces\n",
    "\n",
    "Fill ____ pieces below to have correct values for lower_cased, stripped and stripped_lower_case variables."
   ]
  },
  {
   "cell_type": "code",
   "execution_count": null,
   "metadata": {},
   "outputs": [],
   "source": [
    "## Excercise 8 - code cell\n",
    "\n",
    "original = ' Python strings are COOL! '\n",
    "lower_cased = original._____\n",
    "stripped = ____.strip()\n",
    "stripped_lower_cased = original._____._____"
   ]
  },
  {
   "cell_type": "code",
   "execution_count": null,
   "metadata": {
    "editable": false
   },
   "outputs": [],
   "source": [
    "## Run this cell to validate your code.           ##\n",
    "## This is a test cell for the Excercise 8 Cell   ##\n",
    "## Please do not modify the contents of this cell ##\n",
    "## These are the test cases your code should pass ##\n",
    "\n",
    "assert lower_cased == ' python strings are cool! '\n",
    "assert stripped == 'Python strings are COOL!'\n",
    "assert stripped_lower_cased == 'python strings are cool!'\n",
    "\n",
    "print(\"All Passed!\")\n",
    "###################################################"
   ]
  },
  {
   "cell_type": "markdown",
   "metadata": {},
   "source": [
    "## Exercise 9 - Format string based on existing variables\n",
    "\n",
    "Create sentence by using verb, language, and punctuation and any other strings you may need."
   ]
  },
  {
   "cell_type": "code",
   "execution_count": null,
   "metadata": {
    "editable": false
   },
   "outputs": [],
   "source": [
    "verb = 'is'\n",
    "language = 'Python'\n",
    "punctuation = '!'"
   ]
  },
  {
   "cell_type": "code",
   "execution_count": null,
   "metadata": {},
   "outputs": [],
   "source": [
    "## Excercise 9 - code cell\n",
    "\n",
    "sentence = 'TODO'"
   ]
  },
  {
   "cell_type": "code",
   "execution_count": null,
   "metadata": {
    "editable": false
   },
   "outputs": [],
   "source": [
    "## Run this cell to validate your code.           ##\n",
    "## This is a test cell for the Excercise 9 Cell   ##\n",
    "## Please do not modify the contents of this cell ##\n",
    "## These are the test cases your code should pass ##\n",
    "\n",
    "print('sentence: {}'.format(sentence))\n",
    "assert sentence == 'Learning Python is fun!'\n",
    "\n",
    "print(\"All Passed!\")\n",
    "###################################################"
   ]
  }
 ],
 "metadata": {
  "kernelspec": {
   "display_name": "Python 3",
   "language": "python",
   "name": "python3"
  },
  "language_info": {
   "codemirror_mode": {
    "name": "ipython",
    "version": 3
   },
   "file_extension": ".py",
   "mimetype": "text/x-python",
   "name": "python",
   "nbconvert_exporter": "python",
   "pygments_lexer": "ipython3",
   "version": "3.7.4"
  }
 },
 "nbformat": 4,
 "nbformat_minor": 2
}
