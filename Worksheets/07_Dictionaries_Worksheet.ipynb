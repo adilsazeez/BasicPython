{
 "cells": [
  {
   "cell_type": "markdown",
   "metadata": {},
   "source": [
    "# Exercise 1 - Populating a dictionary\n",
    "Create a dictionary by using all the given variables."
   ]
  },
  {
   "cell_type": "code",
   "execution_count": 21,
   "metadata": {
    "editable": false
   },
   "outputs": [],
   "source": [
    "first_name = 'John'\n",
    "last_name = 'Doe'\n",
    "favorite_hobby = 'Python'\n",
    "sports_hobby = 'gym'\n",
    "age = 82"
   ]
  },
  {
   "cell_type": "code",
   "execution_count": 29,
   "metadata": {},
   "outputs": [],
   "source": [
    "# Exercise 1 - code cell\n",
    "\n",
    "# your code here\n",
    "my_dict = \n"
   ]
  },
  {
   "cell_type": "code",
   "execution_count": 30,
   "metadata": {
    "editable": false
   },
   "outputs": [
    {
     "name": "stdout",
     "output_type": "stream",
     "text": [
      "All Passed!\n"
     ]
    }
   ],
   "source": [
    "## Run this cell to validate your code.           ##\n",
    "## This is a test cell for the Excercise 1 Cell   ##\n",
    "## Please do not modify the contents of this cell ##\n",
    "## These are the test cases your code should pass ##\n",
    "\n",
    "assert my_dict == {\n",
    "        'name': 'John Doe',\n",
    "        'age': 82,\n",
    "        'hobbies': ['Python', 'gym']\n",
    "    }\n",
    "\n",
    "print(\"All Passed!\")\n",
    "###################################################"
   ]
  },
  {
   "cell_type": "markdown",
   "metadata": {},
   "source": [
    "# Exercise 2 - Accessing and merging dictionaries\n",
    "Combine `dict1`, `dict2`, and `dict3` into `my_dict`. In addition, get the value of `special_key` from `my_dict` into a `special_value` variable. Note that original dictionaries should stay untouched and `special_key` should be removed from `my_dict`."
   ]
  },
  {
   "cell_type": "code",
   "execution_count": 39,
   "metadata": {
    "editable": false
   },
   "outputs": [],
   "source": [
    "dict1 = dict(key1='This is not that hard', key2='Python is still cool')\n",
    "dict2 = {'key1': 123, 'special_key': 'secret'}\n",
    "# This is also a away to initialize a dict (list of tuples) \n",
    "dict3 = dict([('key2', 456), ('keyX', 'X')])"
   ]
  },
  {
   "cell_type": "code",
   "execution_count": 40,
   "metadata": {},
   "outputs": [
    {
     "name": "stdout",
     "output_type": "stream",
     "text": [
      "{'key1': 123, 'key2': 456, 'keyX': 'X'}\n"
     ]
    }
   ],
   "source": [
    "# Exercise 2 - code cell\n",
    "\n",
    "# your code here\n",
    "my_dict = \n",
    "\n",
    "print(my_dict)"
   ]
  },
  {
   "cell_type": "code",
   "execution_count": 41,
   "metadata": {
    "editable": false
   },
   "outputs": [
    {
     "name": "stdout",
     "output_type": "stream",
     "text": [
      "All Passed!\n"
     ]
    }
   ],
   "source": [
    "## Run this cell to validate your code.           ##\n",
    "## This is a test cell for the Excercise 2 Cell   ##\n",
    "## Please do not modify the contents of this cell ##\n",
    "## These are the test cases your code should pass ##\n",
    "\n",
    "assert my_dict == {'key1': 123, 'key2': 456, 'keyX': 'X'}\n",
    "assert special_value == 'secret'\n",
    "\n",
    "# Let's check that the originals are untouched\n",
    "assert dict1 == {\n",
    "        'key1': 'This is not that hard',\n",
    "        'key2': 'Python is still cool'\n",
    "    }\n",
    "assert dict2 == {'key1': 123, 'special_key': 'secret'}\n",
    "assert dict3 == {'key2': 456, 'keyX': 'X'}\n",
    "\n",
    "print(\"All Passed!\")\n",
    "###################################################"
   ]
  },
  {
   "cell_type": "markdown",
   "metadata": {},
   "source": [
    "## Exercise 3 - Calculate the sum of dict values\n",
    "Calculate the sum of the values in magic_dict by taking only into account numeric values (hint: see isinstance)."
   ]
  },
  {
   "cell_type": "code",
   "execution_count": 42,
   "metadata": {
    "editable": false
   },
   "outputs": [],
   "source": [
    "magic_dict = dict(val1=44, val2='secret value', val3=55.0, val4=1)"
   ]
  },
  {
   "cell_type": "code",
   "execution_count": 47,
   "metadata": {},
   "outputs": [],
   "source": [
    "# Exercise 3 - code cell\n",
    "\n",
    "## your code here\n",
    "sum_of_values = \n",
    "\n"
   ]
  },
  {
   "cell_type": "code",
   "execution_count": 48,
   "metadata": {
    "editable": false
   },
   "outputs": [
    {
     "name": "stdout",
     "output_type": "stream",
     "text": [
      "All Passed!\n"
     ]
    }
   ],
   "source": [
    "## Run this cell to validate your code.           ##\n",
    "## This is a test cell for the Excercise 3 Cell   ##\n",
    "## Please do not modify the contents of this cell ##\n",
    "## These are the test cases your code should pass ##\n",
    "\n",
    "assert sum_of_values == 100\n",
    "\n",
    "print(\"All Passed!\")\n",
    "###################################################"
   ]
  },
  {
   "cell_type": "markdown",
   "metadata": {},
   "source": [
    "## Exercise 4 - Using dictionary comprehension\n",
    "\n",
    "Create a new dictionary by extracting the following keys from a given dictionary"
   ]
  },
  {
   "cell_type": "code",
   "execution_count": 1,
   "metadata": {
    "editable": false
   },
   "outputs": [],
   "source": [
    "sampleDict = {\n",
    "  \"name\": \"Kelly\",\n",
    "  \"age\":25,\n",
    "  \"salary\": 8000,\n",
    "  \"city\": \"New york\" \n",
    "}\n",
    "\n",
    "# Keys to extract\n",
    "\n",
    "keys = [\"name\", \"salary\"]"
   ]
  },
  {
   "cell_type": "code",
   "execution_count": 3,
   "metadata": {},
   "outputs": [
    {
     "name": "stdout",
     "output_type": "stream",
     "text": [
      "{'name': 'Kelly', 'salary': 8000}\n"
     ]
    }
   ],
   "source": [
    "# Exercise 4 - code cell\n",
    "\n",
    "## your code here\n",
    "newDict = \n"
   ]
  },
  {
   "cell_type": "code",
   "execution_count": 4,
   "metadata": {
    "editable": false
   },
   "outputs": [
    {
     "name": "stdout",
     "output_type": "stream",
     "text": [
      "All Passed!\n"
     ]
    }
   ],
   "source": [
    "## Run this cell to validate your code.           ##\n",
    "## This is a test cell for the Excercise 4 Cell   ##\n",
    "## Please do not modify the contents of this cell ##\n",
    "## These are the test cases your code should pass ##\n",
    "\n",
    "assert newDict == {'name': 'Kelly', 'salary': 8000}\n",
    "\n",
    "print(\"All Passed!\")\n",
    "###################################################"
   ]
  },
  {
   "cell_type": "markdown",
   "metadata": {},
   "source": [
    "## Exercise 5 - Delete set of keys from a dictionary"
   ]
  },
  {
   "cell_type": "code",
   "execution_count": 5,
   "metadata": {
    "editable": false
   },
   "outputs": [],
   "source": [
    "sampleDict = {\n",
    "  \"name\": \"Kelly\",\n",
    "  \"age\":25,\n",
    "  \"salary\": 8000,\n",
    "  \"city\": \"New york\"\n",
    "  \n",
    "}\n",
    "\n",
    "keysToRemove = [\"name\", \"salary\"]"
   ]
  },
  {
   "cell_type": "code",
   "execution_count": 6,
   "metadata": {},
   "outputs": [
    {
     "name": "stdout",
     "output_type": "stream",
     "text": [
      "{'age': 25, 'city': 'New york'}\n"
     ]
    }
   ],
   "source": [
    "# Exercise 5 - code cell\n",
    "\n",
    "## your code here\n",
    "sampleDict = \n"
   ]
  },
  {
   "cell_type": "code",
   "execution_count": null,
   "metadata": {
    "editable": false
   },
   "outputs": [],
   "source": [
    "## Run this cell to validate your code.           ##\n",
    "## This is a test cell for the Excercise 5 Cell   ##\n",
    "## Please do not modify the contents of this cell ##\n",
    "## These are the test cases your code should pass ##\n",
    "\n",
    "assert sampleDict == {'age': 25, 'city': 'New york'}\n",
    "\n",
    "print(\"All Passed!\")\n",
    "###################################################"
   ]
  },
  {
   "cell_type": "markdown",
   "metadata": {},
   "source": [
    "## Exercise 6\n",
    "\n",
    "Rename key `city` to `location` in the following dictionary"
   ]
  },
  {
   "cell_type": "code",
   "execution_count": 8,
   "metadata": {
    "editable": false
   },
   "outputs": [],
   "source": [
    "sampleDict = {\n",
    "  \"name\": \"Kelly\",\n",
    "  \"age\":25,\n",
    "  \"salary\": 8000,\n",
    "  \"city\": \"New york\"\n",
    "}"
   ]
  },
  {
   "cell_type": "code",
   "execution_count": 9,
   "metadata": {},
   "outputs": [
    {
     "name": "stdout",
     "output_type": "stream",
     "text": [
      "{'name': 'Kelly', 'age': 25, 'salary': 8000, 'location': 'New york'}\n"
     ]
    }
   ],
   "source": [
    "# Exercise 6 - code cell\n",
    "\n",
    "## your code here\n"
   ]
  },
  {
   "cell_type": "code",
   "execution_count": null,
   "metadata": {
    "editable": false
   },
   "outputs": [],
   "source": [
    "## Run this cell to validate your code.           ##\n",
    "## This is a test cell for the Excercise 6 Cell   ##\n",
    "## Please do not modify the contents of this cell ##\n",
    "## These are the test cases your code should pass ##\n",
    "\n",
    "assert sampleDict == {'name': 'Kelly', 'age': 25, 'salary': 8000, 'location': 'New york'}\n",
    "\n",
    "print(\"All Passed!\")\n",
    "###################################################"
   ]
  },
  {
   "cell_type": "markdown",
   "metadata": {},
   "source": [
    "## Exercise 7\n",
    "\n",
    "Get the key corresponding to the minimum value from the following dictionary"
   ]
  },
  {
   "cell_type": "code",
   "execution_count": 10,
   "metadata": {
    "editable": false
   },
   "outputs": [],
   "source": [
    "sampleDict = {\n",
    "  'Physics': 82,\n",
    "  'Math': 65,\n",
    "  'history': 75\n",
    "}"
   ]
  },
  {
   "cell_type": "code",
   "execution_count": 11,
   "metadata": {},
   "outputs": [],
   "source": [
    "# Exercise 7 - code cell\n",
    "\n",
    "## your code here\n",
    "min_key = \n"
   ]
  },
  {
   "cell_type": "code",
   "execution_count": 12,
   "metadata": {
    "editable": false
   },
   "outputs": [
    {
     "name": "stdout",
     "output_type": "stream",
     "text": [
      "All Passed!\n"
     ]
    }
   ],
   "source": [
    "## Run this cell to validate your code.           ##\n",
    "## This is a test cell for the Excercise 7 Cell   ##\n",
    "## Please do not modify the contents of this cell ##\n",
    "## These are the test cases your code should pass ##\n",
    "\n",
    "assert min_key == 'Math'\n",
    "\n",
    "print(\"All Passed!\")\n",
    "###################################################"
   ]
  },
  {
   "cell_type": "markdown",
   "metadata": {},
   "source": [
    "## Exercise 8 \n",
    "\n",
    "Write a function to count the number of occurence of each letter in a string"
   ]
  },
  {
   "cell_type": "code",
   "execution_count": 19,
   "metadata": {},
   "outputs": [],
   "source": [
    "# Exercise 8 - code cell\n",
    "\n",
    "def func_counter(string):\n",
    "    ## your code here\n",
    "    "
   ]
  },
  {
   "cell_type": "code",
   "execution_count": 20,
   "metadata": {
    "editable": false
   },
   "outputs": [
    {
     "name": "stdout",
     "output_type": "stream",
     "text": [
      "All Passed!\n"
     ]
    }
   ],
   "source": [
    "## Run this cell to validate your code.           ##\n",
    "## This is a test cell for the Excercise 8 Cell   ##\n",
    "## Please do not modify the contents of this cell ##\n",
    "## These are the test cases your code should pass ##\n",
    "\n",
    "string = 'The clever fox jumped over the lazy dog'\n",
    "ct_dict = func_counter(string)\n",
    "assert ct_dict == {'T': 1, 'h': 2, 'e': 6, ' ': 7, 'c': 1, 'l': 2, 'v': 2, 'r': 2, 'f': 1, 'o': 3, 'x': 1, 'j': 1, 'u': 1, 'm': 1, 'p': 1, 'd': 2, 't': 1, 'a': 1, 'z': 1, 'y': 1, 'g': 1}\n",
    "\n",
    "print(\"All Passed!\")\n",
    "###################################################"
   ]
  }
 ],
 "metadata": {
  "celltoolbar": "Edit Metadata",
  "kernelspec": {
   "display_name": "Python 3",
   "language": "python",
   "name": "python3"
  },
  "language_info": {
   "codemirror_mode": {
    "name": "ipython",
    "version": 3
   },
   "file_extension": ".py",
   "mimetype": "text/x-python",
   "name": "python",
   "nbconvert_exporter": "python",
   "pygments_lexer": "ipython3",
   "version": "3.7.4"
  }
 },
 "nbformat": 4,
 "nbformat_minor": 1
}
