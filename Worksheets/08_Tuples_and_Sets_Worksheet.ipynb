{
 "cells": [
  {
   "cell_type": "markdown",
   "metadata": {},
   "source": [
    "## Exercise 1\n",
    "\n",
    "Reverse the following tuple"
   ]
  },
  {
   "cell_type": "code",
   "execution_count": null,
   "metadata": {
    "editable": false
   },
   "outputs": [],
   "source": [
    "myTuple = (10, 20, 30, 40, 50)"
   ]
  },
  {
   "cell_type": "code",
   "execution_count": null,
   "metadata": {},
   "outputs": [],
   "source": [
    "# Exercise 2 - code cell\n",
    "\n",
    "## your code here\n",
    "myTuple = \n"
   ]
  },
  {
   "cell_type": "code",
   "execution_count": null,
   "metadata": {
    "editable": false
   },
   "outputs": [],
   "source": [
    "## This is a test cell for the Excercise 1 Cell   ##\n",
    "## Please do not modify the contents of this cell ##\n",
    "## These are the test cases your code should pass ##\n",
    "\n",
    "assert myTuple == (50,40,30,20,10)\n",
    "\n",
    "print(\"All Passed!\")\n",
    "###################################################"
   ]
  },
  {
   "cell_type": "markdown",
   "metadata": {},
   "source": [
    "## Exercise 2\n",
    "Swap the following two tuples"
   ]
  },
  {
   "cell_type": "code",
   "execution_count": null,
   "metadata": {
    "editable": false
   },
   "outputs": [],
   "source": [
    "tuple1 = (11, 22)\n",
    "tuple2 = (99, 88)"
   ]
  },
  {
   "cell_type": "code",
   "execution_count": null,
   "metadata": {},
   "outputs": [],
   "source": [
    "# Exercise 2 - code cell\n",
    "\n",
    "## your code here\n"
   ]
  },
  {
   "cell_type": "code",
   "execution_count": null,
   "metadata": {
    "editable": false
   },
   "outputs": [],
   "source": [
    "## This is a test cell for the Excercise 2 Cell   ##\n",
    "## Please do not modify the contents of this cell ##\n",
    "## These are the test cases your code should pass ##\n",
    "\n",
    "assert tuple1 == (99, 88)\n",
    "assert tuple2 == (11, 22)\n",
    "\n",
    "print(\"All Passed!\")\n",
    "###################################################"
   ]
  },
  {
   "cell_type": "markdown",
   "metadata": {},
   "source": [
    "## Exercise 3\n",
    "Copy element 44 and 55 from the following tuple into a new tuple"
   ]
  },
  {
   "cell_type": "code",
   "execution_count": null,
   "metadata": {
    "editable": false
   },
   "outputs": [],
   "source": [
    "tuple1 = (11, 22, 33, 44, 55, 66)"
   ]
  },
  {
   "cell_type": "code",
   "execution_count": null,
   "metadata": {},
   "outputs": [],
   "source": [
    "# Exercise 3 - code cell\n",
    "\n",
    "## your code here\n",
    "tuple2 = \n"
   ]
  },
  {
   "cell_type": "code",
   "execution_count": null,
   "metadata": {
    "editable": false
   },
   "outputs": [],
   "source": [
    "## This is a test cell for the Excercise 3 Cell   ##\n",
    "## Please do not modify the contents of this cell ##\n",
    "## These are the test cases your code should pass ##\n",
    "\n",
    "assert tuple2 == (44, 55)\n",
    "\n",
    "print(\"All Passed!\")\n",
    "###################################################"
   ]
  },
  {
   "cell_type": "markdown",
   "metadata": {},
   "source": [
    "## Exercise 4\n",
    "\n",
    "Sort a tuple of tuples by 2nd item"
   ]
  },
  {
   "cell_type": "code",
   "execution_count": null,
   "metadata": {
    "editable": false
   },
   "outputs": [],
   "source": [
    "tuple1 = (('a', 23),('b', 37),('c', 11), ('d',29))"
   ]
  },
  {
   "cell_type": "code",
   "execution_count": null,
   "metadata": {},
   "outputs": [],
   "source": [
    "# Exercise 4 - code cell\n",
    "\n",
    "## your code here\n"
   ]
  },
  {
   "cell_type": "code",
   "execution_count": null,
   "metadata": {
    "editable": false
   },
   "outputs": [],
   "source": [
    "## This is a test cell for the Excercise 4 Cell   ##\n",
    "## Please do not modify the contents of this cell ##\n",
    "## These are the test cases your code should pass ##\n",
    "\n",
    "assert tuple1 == (('c', 11), ('a', 23), ('d', 29), ('b', 37))\n",
    "\n",
    "print(\"All Passed!\")\n",
    "###################################################"
   ]
  },
  {
   "cell_type": "markdown",
   "metadata": {},
   "source": [
    "## Exercise 5\n",
    "\n",
    "Check if all items in a tuple are the same"
   ]
  },
  {
   "cell_type": "code",
   "execution_count": null,
   "metadata": {},
   "outputs": [],
   "source": [
    "# Exercise 5 - code cell\n",
    "\n",
    "def check(sampleTuple):\n",
    "    ## your code here\n"
   ]
  },
  {
   "cell_type": "code",
   "execution_count": null,
   "metadata": {
    "editable": false
   },
   "outputs": [],
   "source": [
    "## This is a test cell for the Excercise 5 Cell   ##\n",
    "## Please do not modify the contents of this cell ##\n",
    "## These are the test cases your code should pass ##\n",
    "\n",
    "tuple1 = (2,2,2,2,2)\n",
    "assert check(tuple1) == True\n",
    "tuple2 = (1,2,3,4)\n",
    "assert check(tuple2) == False\n",
    "\n",
    "print(\"All Passed!\")\n",
    "###################################################"
   ]
  },
  {
   "cell_type": "markdown",
   "metadata": {},
   "source": [
    "## Exercise 6\n",
    "Add a list of elements to a given set"
   ]
  },
  {
   "cell_type": "code",
   "execution_count": null,
   "metadata": {
    "editable": false
   },
   "outputs": [],
   "source": [
    "sampleSet = {\"Yellow\", \"Orange\", \"Black\"}\n",
    "sampleListtoAdd = [\"Blue\", \"Green\", \"Red\"]"
   ]
  },
  {
   "cell_type": "code",
   "execution_count": null,
   "metadata": {},
   "outputs": [],
   "source": [
    "# Exercise 6 - code cell\n",
    "\n",
    "## your code here\n"
   ]
  },
  {
   "cell_type": "code",
   "execution_count": null,
   "metadata": {
    "editable": false
   },
   "outputs": [],
   "source": [
    "## This is a test cell for the Excercise 6 Cell   ##\n",
    "## Please do not modify the contents of this cell ##\n",
    "## These are the test cases your code should pass ##\n",
    "\n",
    "assert sampleSet == {'Green', 'Yellow', 'Black', 'Orange', 'Red', 'Blue'}\n",
    "\n",
    "print(\"All Passed!\")\n",
    "###################################################"
   ]
  },
  {
   "cell_type": "markdown",
   "metadata": {},
   "source": [
    "## Exercise 7\n",
    "\n",
    "Return a set of identical items from a given two Python set"
   ]
  },
  {
   "cell_type": "code",
   "execution_count": null,
   "metadata": {
    "editable": false
   },
   "outputs": [],
   "source": [
    "set1 = {10, 20, 30, 40, 50}\n",
    "set2 = {30, 40, 50, 60, 70}"
   ]
  },
  {
   "cell_type": "code",
   "execution_count": null,
   "metadata": {},
   "outputs": [],
   "source": [
    "# Exercise 7 - code cell\n",
    "\n",
    "## your code here\n",
    "set3 = \n"
   ]
  },
  {
   "cell_type": "code",
   "execution_count": null,
   "metadata": {
    "editable": false
   },
   "outputs": [],
   "source": [
    "## This is a test cell for the Excercise 7 Cell   ##\n",
    "## Please do not modify the contents of this cell ##\n",
    "## These are the test cases your code should pass ##\n",
    "\n",
    "assert set3 == {40, 50, 30}\n",
    "\n",
    "print(\"All Passed!\")\n",
    "###################################################"
   ]
  },
  {
   "cell_type": "markdown",
   "metadata": {},
   "source": [
    "## Exercise 8\n",
    "\n",
    "Given two Python sets, update first set with items that exist only in the first set and not in the second set.\n",
    "\n",
    "Hint: use set operation"
   ]
  },
  {
   "cell_type": "code",
   "execution_count": null,
   "metadata": {
    "editable": false
   },
   "outputs": [],
   "source": [
    "set1 = {10, 20, 30}\n",
    "set2 = {20, 40, 50}"
   ]
  },
  {
   "cell_type": "code",
   "execution_count": null,
   "metadata": {},
   "outputs": [],
   "source": [
    "# Exercise 8 - code cell\n",
    "\n",
    "## your code here\n"
   ]
  },
  {
   "cell_type": "code",
   "execution_count": null,
   "metadata": {
    "editable": false
   },
   "outputs": [],
   "source": [
    "## This is a test cell for the Excercise 8 Cell   ##\n",
    "## Please do not modify the contents of this cell ##\n",
    "## These are the test cases your code should pass ##\n",
    "\n",
    "assert set1 == {10, 20}\n",
    "\n",
    "print(\"All Passed!\")\n",
    "###################################################"
   ]
  },
  {
   "cell_type": "markdown",
   "metadata": {},
   "source": [
    "## Exercise 9\n",
    "\n",
    "Write a function that determines whether or not the following two sets have any elements in common. If yes return the common elements. If not, return None."
   ]
  },
  {
   "cell_type": "code",
   "execution_count": null,
   "metadata": {},
   "outputs": [],
   "source": [
    "# Exercise 9 - code cell\n",
    "\n",
    "def func_common(set1,set2):\n",
    "    \n",
    "    ## your code here\n",
    "    "
   ]
  },
  {
   "cell_type": "code",
   "execution_count": null,
   "metadata": {
    "editable": false
   },
   "outputs": [],
   "source": [
    "## This is a test cell for the Excercise 9 Cell   ##\n",
    "## Please do not modify the contents of this cell ##\n",
    "## These are the test cases your code should pass ##\n",
    "\n",
    "set1 = {10, 20, 30, 40, 50}\n",
    "set2 = {60, 70, 80, 90, 10}\n",
    "\n",
    "assert func_common(set1,set2) == {10}\n",
    "\n",
    "set1 = {10, 20, 30, 40, 50}\n",
    "set2 = {60, 70, 80, 90}\n",
    "\n",
    "assert func_common(set1,set2) == None\n",
    "\n",
    "print(\"All Passed!\")\n",
    "###################################################"
   ]
  }
 ],
 "metadata": {
  "kernelspec": {
   "display_name": "Python 3",
   "language": "python",
   "name": "python3"
  },
  "language_info": {
   "codemirror_mode": {
    "name": "ipython",
    "version": 3
   },
   "file_extension": ".py",
   "mimetype": "text/x-python",
   "name": "python",
   "nbconvert_exporter": "python",
   "pygments_lexer": "ipython3",
   "version": "3.7.4"
  }
 },
 "nbformat": 4,
 "nbformat_minor": 2
}
