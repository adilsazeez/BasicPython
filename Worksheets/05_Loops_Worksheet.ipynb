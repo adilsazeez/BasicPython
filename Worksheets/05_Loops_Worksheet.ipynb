{
 "cells": [
  {
   "cell_type": "markdown",
   "metadata": {},
   "source": [
    "## Exercise 1 - Fill the missing pieces\n",
    "\n",
    "Fill the `____` parts in the code below."
   ]
  },
  {
   "cell_type": "code",
   "execution_count": null,
   "metadata": {},
   "outputs": [],
   "source": [
    "# Exercise 1 - code cell\n",
    "\n",
    "words = ['PYTHON', 'JOHN', 'chEEse', 'hAm', 'DOE', '123']\n",
    "upper_case_words = []\n",
    "\n",
    "for ____ in words:\n",
    "    if ____.isupper():\n",
    "        ____.append(____)"
   ]
  },
  {
   "cell_type": "code",
   "execution_count": null,
   "metadata": {
    "editable": false
   },
   "outputs": [],
   "source": [
    "## Run this cell to validate your code.           ##\n",
    "## This is a test cell for the Excercise 1 Cell   ##\n",
    "## Please do not modify the contents of this cell ##\n",
    "## These are the test cases your code should pass ##\n",
    "\n",
    "assert upper_case_words == ['PYTHON', 'JOHN', 'DOE']\n",
    "\n",
    "print(\"All Passed!\")\n",
    "###################################################"
   ]
  },
  {
   "cell_type": "markdown",
   "metadata": {},
   "source": [
    "## Excercise 2 - \n",
    "\n",
    "Write a function that takes a string as a parameter and returns a string with the first letter of every word capitalized\n"
   ]
  },
  {
   "cell_type": "code",
   "execution_count": null,
   "metadata": {},
   "outputs": [],
   "source": [
    "# Exercise 2 - code cell\n",
    "\n",
    "def func_capitalize(string):\n",
    "## your code here\n",
    "\n"
   ]
  },
  {
   "cell_type": "code",
   "execution_count": null,
   "metadata": {
    "editable": false
   },
   "outputs": [],
   "source": [
    "## Run this cell to validate your code.           ##\n",
    "## This is a test cell for the Excercise 2 Cell   ##\n",
    "## Please do not modify the contents of this cell ##\n",
    "## These are the test cases your code should pass ##\n",
    "\n",
    "my_str = 'the clever fox jumped over the lazy dog'\n",
    "assert func_capitalize(my_str) == 'The Clever Fox Jumped Over The Lazy Dog'\n",
    "\n",
    "print(\"All Passed!\")\n",
    "###################################################"
   ]
  },
  {
   "cell_type": "markdown",
   "metadata": {},
   "source": [
    "## Exercise 3 \n",
    "\n",
    "Write a function that takes a number as parameter and calculates the sum of all numbers between 1 and n including n"
   ]
  },
  {
   "cell_type": "code",
   "execution_count": null,
   "metadata": {},
   "outputs": [],
   "source": [
    "# Exercise 3 - code cell\n",
    "\n",
    "def func_add_numbers():\n",
    "    ## your code here\n",
    "    "
   ]
  },
  {
   "cell_type": "code",
   "execution_count": null,
   "metadata": {
    "editable": false
   },
   "outputs": [],
   "source": [
    "## Run this cell to validate your code.           ##\n",
    "## This is a test cell for the Excercise 3 Cell   ##\n",
    "## Please do not modify the contents of this cell ##\n",
    "## These are the test cases your code should pass ##\n",
    "\n",
    "assert func_add_numbers(10) == 55\n",
    "\n",
    "print(\"All Passed!\")\n",
    "###################################################"
   ]
  },
  {
   "cell_type": "markdown",
   "metadata": {},
   "source": [
    "## Exercise 4\n",
    "\n",
    "Write a function that given a number counts the total number of 1s in that number\n",
    "\n",
    "Examples\n",
    "1231 has 2 1s\n",
    "2354 has 0 1s\n",
    "121111 has 5 1s"
   ]
  },
  {
   "cell_type": "code",
   "execution_count": null,
   "metadata": {},
   "outputs": [],
   "source": [
    "# Exercise 4 - code cell\n",
    "\n",
    "def func_countOnes(num):\n",
    "    ## your code here\n",
    "    "
   ]
  },
  {
   "cell_type": "code",
   "execution_count": null,
   "metadata": {
    "editable": false
   },
   "outputs": [],
   "source": [
    "## Run this cell to validate your code.           ##\n",
    "## This is a test cell for the Excercise 4 Cell   ##\n",
    "## Please do not modify the contents of this cell ##\n",
    "## These are the test cases your code should pass ##\n",
    "\n",
    "assert func_countOnes(458232) == 0\n",
    "assert func_countOnes(123111) == 4\n",
    "assert func_countOnes(1) == 1\n",
    "\n",
    "print(\"All Passed!\")\n",
    "###################################################"
   ]
  },
  {
   "cell_type": "markdown",
   "metadata": {},
   "source": [
    "## Exercise 5\n",
    "\n",
    "Write a function that takes a string as input and returns a count of all lower case letters"
   ]
  },
  {
   "cell_type": "code",
   "execution_count": null,
   "metadata": {},
   "outputs": [],
   "source": [
    "# Exercise 5 - code cell\n",
    "\n",
    "def func_count_lower(string):\n",
    "    ## your code here\n",
    "    "
   ]
  },
  {
   "cell_type": "code",
   "execution_count": null,
   "metadata": {
    "editable": false
   },
   "outputs": [],
   "source": [
    "## Run this cell to validate your code.           ##\n",
    "## This is a test cell for the Excercise 5 Cell   ##\n",
    "## Please do not modify the contents of this cell ##\n",
    "## These are the test cases your code should pass ##\n",
    "\n",
    "assert func_count_lower('The cleVer Fox JUmped oveR THE 7aZy dOg') == 20\n",
    "\n",
    "print(\"All Passed!\")\n",
    "###################################################"
   ]
  },
  {
   "cell_type": "markdown",
   "metadata": {},
   "source": [
    "## Exercise 6\n",
    "\n",
    "Write a function that takes two strings as input and gives a mixed string as output\n",
    "\n",
    "Example1 - \"baroda\" and \"bangalore\" should give - \"bbaarnogdaalore\"\n",
    "\n",
    "Example2 - \"vadapav\" and \"idli\" should give - \"viaddlaipav\""
   ]
  },
  {
   "cell_type": "code",
   "execution_count": null,
   "metadata": {},
   "outputs": [],
   "source": [
    "# Exercise 6 - code cell\n",
    "\n",
    "def func_mix_strings(s1,s2):\n",
    "    ## your code here\n",
    "    "
   ]
  },
  {
   "cell_type": "code",
   "execution_count": null,
   "metadata": {
    "editable": false
   },
   "outputs": [],
   "source": [
    "## Run this cell to validate your code.           ##\n",
    "## This is a test cell for the Excercise 6 Cell   ##\n",
    "## Please do not modify the contents of this cell ##\n",
    "## These are the test cases your code should pass ##\n",
    "\n",
    "assert func_mix_strings('baroda','bangalore') == 'bbaarnogdaalore'\n",
    "assert func_mix_strings('vadapav','idli') == 'viaddlaipav'\n",
    "\n",
    "print(\"All Passed!\")\n",
    "###################################################"
   ]
  }
 ],
 "metadata": {
  "kernelspec": {
   "display_name": "Python 3",
   "language": "python",
   "name": "python3"
  },
  "language_info": {
   "codemirror_mode": {
    "name": "ipython",
    "version": 3
   },
   "file_extension": ".py",
   "mimetype": "text/x-python",
   "name": "python",
   "nbconvert_exporter": "python",
   "pygments_lexer": "ipython3",
   "version": "3.7.4"
  }
 },
 "nbformat": 4,
 "nbformat_minor": 2
}
