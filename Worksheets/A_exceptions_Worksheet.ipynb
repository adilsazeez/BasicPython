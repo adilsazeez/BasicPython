{
 "cells": [
  {
   "cell_type": "markdown",
   "metadata": {},
   "source": [
    "## Exercise 1 - Dealing with exceptions\n",
    "Fill `____` parts of the implementation below. `sum_of_list` function takes a list as argument and calculates the sum of values in the list. If some element in the list can not be converted to a numeric value, it should be ignored from the sum."
   ]
  },
  {
   "cell_type": "code",
   "execution_count": null,
   "metadata": {},
   "outputs": [],
   "source": [
    "# Exercise 1 - code cell\n",
    "\n",
    "def sum_of_list(values):\n",
    "    ____ = 0\n",
    "    for val in values:\n",
    "        ____:\n",
    "            numeric_val = float(val)\n",
    "        ____ ____ as e:\n",
    "            ____\n",
    "        ____ += numeric_val\n",
    "    return ____"
   ]
  },
  {
   "cell_type": "code",
   "execution_count": null,
   "metadata": {
    "editable": false
   },
   "outputs": [],
   "source": [
    "## Run this cell to validate your code.           ##\n",
    "## This is a test cell for the Excercise 1 Cell   ##\n",
    "## Please do not modify the contents of this cell ##\n",
    "## These are the test cases your code should pass ##\n",
    "\n",
    "list1 = [1, 2, 3]\n",
    "list2 = ['1', 2.5, '3.0']\n",
    "list3 = ['', '1']\n",
    "list4 = []\n",
    "list5 = ['John', 'Doe', 'was', 'here']\n",
    "nasty_list = [KeyError(), [], dict()]\n",
    "\n",
    "assert sum_of_list(list1) == 6\n",
    "assert sum_of_list(list2) == 6.5\n",
    "assert sum_of_list(list3) == 1\n",
    "assert sum_of_list(list4) == 0\n",
    "assert sum_of_list(list5) == 0\n",
    "assert sum_of_list(nasty_list) == 0\n",
    "\n",
    "print(\"All Passed!\")\n",
    "###################################################"
   ]
  },
  {
   "cell_type": "markdown",
   "metadata": {},
   "source": [
    "## Exercise 2 - Using custom exceptions\n",
    "Implement `verify_short_string` function which takes a single string as argument. If the length of the input string is more than ten characters, the function should raise `TooLongString` exception (note: you have to create `TooLongString` yourself). The function does not have to return anything.  "
   ]
  },
  {
   "cell_type": "code",
   "execution_count": null,
   "metadata": {},
   "outputs": [],
   "source": [
    "# Exercise 2 - code cell\n",
    "\n",
    "def verify_short_string(string):\n",
    "    ## your code here\n",
    "    "
   ]
  },
  {
   "cell_type": "code",
   "execution_count": null,
   "metadata": {},
   "outputs": [],
   "source": [
    "## Run this cell to validate your code.           ##\n",
    "## This is a test cell for the Excercise 1 Cell   ##\n",
    "## Please do not modify the contents of this cell ##\n",
    "## These are the test cases your code should pass ##\n",
    "\n",
    "assert func_add(4,5) == 9\n",
    "assert func_add(4.5,4.5) == 9\n",
    "\n",
    "print(\"All Passed!\")\n",
    "###################################################\n",
    "\n",
    "# These should not raise\n",
    "verify_short_string('short') \n",
    "verify_short_string('10   chars')\n",
    "\n",
    "# This should raise\n",
    "try:\n",
    "    verify_short_string('this is long')\n",
    "except TooLongString as e:\n",
    "    # This is ok\n",
    "    pass\n",
    "else:\n",
    "    # This means that there was no exception\n",
    "    assert False "
   ]
  }
 ],
 "metadata": {
  "celltoolbar": "Edit Metadata",
  "kernelspec": {
   "display_name": "Python 3",
   "language": "python",
   "name": "python3"
  },
  "language_info": {
   "codemirror_mode": {
    "name": "ipython",
    "version": 3
   },
   "file_extension": ".py",
   "mimetype": "text/x-python",
   "name": "python",
   "nbconvert_exporter": "python",
   "pygments_lexer": "ipython3",
   "version": "3.7.4"
  }
 },
 "nbformat": 4,
 "nbformat_minor": 2
}
