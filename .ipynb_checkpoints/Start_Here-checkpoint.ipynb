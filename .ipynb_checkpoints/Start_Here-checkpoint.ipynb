{
 "cells": [
  {
   "cell_type": "markdown",
   "metadata": {},
   "source": [
    "## Welcome aboard!\n",
    "\n",
    "Click your mouse pointer inside the cell below and press `Shift + Enter` to watch an introductory video"
   ]
  },
  {
   "cell_type": "code",
   "execution_count": null,
   "metadata": {
    "scrolled": true
   },
   "outputs": [],
   "source": [
    "from IPython.display import IFrame\n",
    "IFrame(\"https://www.youtube.com/embed/SRv8s2vUXJ4\", width=\"814\", height=\"509\")"
   ]
  },
  {
   "cell_type": "code",
   "execution_count": null,
   "metadata": {},
   "outputs": [],
   "source": [
    "## use this cell for practice\n",
    "\n",
    "# This is a comment, it isn't run as code, but you can use it to make notes and document your code\n",
    "\n",
    "3+4"
   ]
  },
  {
   "cell_type": "markdown",
   "metadata": {},
   "source": [
    "To know more about IPython click [here](https://en.wikipedia.org/wiki/IPython)\n",
    "\n",
    "For a short introduction to jupyter notebooks click [here](https://jupyter-notebook.readthedocs.io/en/stable/ui_components.html#)\n",
    "\n",
    "\n",
    "Click your mouse pointer inside the cell below and press `Shift + Enter` to understand how to use the lab on cloud"
   ]
  },
  {
   "cell_type": "code",
   "execution_count": null,
   "metadata": {},
   "outputs": [],
   "source": [
    "## This video will show you how to use the lab to learn python\n",
    "\n",
    "from IPython.display import IFrame\n",
    "IFrame(\"https://www.youtube.com/embed/W8psZg6e1lQ\", width=\"814\", height=\"509\")"
   ]
  }
 ],
 "metadata": {
  "kernelspec": {
   "display_name": "Python 3",
   "language": "python",
   "name": "python3"
  },
  "language_info": {
   "codemirror_mode": {
    "name": "ipython",
    "version": 3
   },
   "file_extension": ".py",
   "mimetype": "text/x-python",
   "name": "python",
   "nbconvert_exporter": "python",
   "pygments_lexer": "ipython3",
   "version": "3.7.4"
  }
 },
 "nbformat": 4,
 "nbformat_minor": 2
}
